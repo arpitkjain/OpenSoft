{
 "metadata": {
  "kernelspec": {
   "display_name": "Python 3",
   "language": "python",
   "name": "python3"
  },
  "language_info": {
   "codemirror_mode": {
    "name": "ipython",
    "version": 3
   },
   "file_extension": ".py",
   "mimetype": "text/x-python",
   "name": "python",
   "nbconvert_exporter": "python",
   "pygments_lexer": "ipython3",
   "version": "3.6.3"
  },
  "name": ""
 },
 "nbformat": 3,
 "nbformat_minor": 0,
 "worksheets": [
  {
   "cells": [
    {
     "cell_type": "markdown",
     "metadata": {},
     "source": [
      "# Character Classification\n",
      "This notebook contains all steps of OCR"
     ]
    },
    {
     "cell_type": "code",
     "collapsed": false,
     "input": [
      "import numpy as np\n",
      "import pandas as pd\n",
      "import matplotlib.pyplot as plt\n",
      "import tensorflow as tf\n",
      "import cv2\n",
      "import scipy\n",
      "import math  \n",
      "from ocr import page1 as p\n",
      "from ocr import helpers as h\n",
      "\n",
      "# Import Widgets\n",
      "from ipywidgets import Button, Text, IntSlider, interact\n",
      "from IPython.display import display, clear_output\n",
      "\n",
      "# Import costume functions, corresponding to notebooks\n",
      "from ocr.normalization import imageNorm, letterNorm\n",
      "from ocr import page, words, charSeg\n",
      "from ocr.helpers import implt, resize\n",
      "from ocr.tfhelpers import Graph\n",
      "from ocr.datahelpers import idx2char                                                                                                "
     ],
     "language": "python",
     "metadata": {},
     "outputs": [
      {
       "ename": "ImportError",
       "evalue": "No module named ocr",
       "output_type": "pyerr",
       "traceback": [
        "\u001b[0;31m---------------------------------------------------------------------------\u001b[0m\n\u001b[0;31mImportError\u001b[0m                               Traceback (most recent call last)",
        "\u001b[0;32m<ipython-input-1-9beb54776899>\u001b[0m in \u001b[0;36m<module>\u001b[0;34m()\u001b[0m\n\u001b[1;32m      6\u001b[0m \u001b[0;32mimport\u001b[0m \u001b[0mscipy\u001b[0m\u001b[0;34m\u001b[0m\u001b[0m\n\u001b[1;32m      7\u001b[0m \u001b[0;32mimport\u001b[0m \u001b[0mmath\u001b[0m\u001b[0;34m\u001b[0m\u001b[0m\n\u001b[0;32m----> 8\u001b[0;31m \u001b[0;32mfrom\u001b[0m \u001b[0mocr\u001b[0m \u001b[0;32mimport\u001b[0m \u001b[0mpage1\u001b[0m \u001b[0;32mas\u001b[0m \u001b[0mp\u001b[0m\u001b[0;34m\u001b[0m\u001b[0m\n\u001b[0m\u001b[1;32m      9\u001b[0m \u001b[0;32mfrom\u001b[0m \u001b[0mocr\u001b[0m \u001b[0;32mimport\u001b[0m \u001b[0mhelpers\u001b[0m \u001b[0;32mas\u001b[0m \u001b[0mh\u001b[0m\u001b[0;34m\u001b[0m\u001b[0m\n\u001b[1;32m     10\u001b[0m \u001b[0;34m\u001b[0m\u001b[0m\n",
        "\u001b[0;31mImportError\u001b[0m: No module named ocr"
       ]
      }
     ],
     "prompt_number": 1
    },
    {
     "cell_type": "code",
     "collapsed": true,
     "input": [
      "# Increase size of images\n",
      "plt.rcParams['figure.figsize'] = (9.0, 5.0)"
     ],
     "language": "python",
     "metadata": {},
     "outputs": [],
     "prompt_number": 2
    },
    {
     "cell_type": "heading",
     "level": 3,
     "metadata": {},
     "source": [
      "Global Variables"
     ]
    },
    {
     "cell_type": "code",
     "collapsed": true,
     "input": [
      "MODEL_LOC = 'models/char-clas/en/CharClassifier'"
     ],
     "language": "python",
     "metadata": {},
     "outputs": [],
     "prompt_number": 3
    },
    {
     "cell_type": "heading",
     "level": 2,
     "metadata": {},
     "source": [
      "Load Trained Model"
     ]
    },
    {
     "cell_type": "code",
     "collapsed": false,
     "input": [
      "charClass = Graph(MODEL_LOC)"
     ],
     "language": "python",
     "metadata": {
      "scrolled": false
     },
     "outputs": [
      {
       "output_type": "stream",
       "stream": "stdout",
       "text": [
        "INFO:tensorflow:Restoring parameters from models/char-clas/en/CharClassifier\n"
       ]
      }
     ],
     "prompt_number": 4
    },
    {
     "cell_type": "markdown",
     "metadata": {},
     "source": []
    },
    {
     "cell_type": "code",
     "collapsed": true,
     "input": [],
     "language": "python",
     "metadata": {},
     "outputs": [],
     "prompt_number": null
    },
    {
     "cell_type": "code",
     "collapsed": false,
     "input": [
      "# image = cv2.cvtColor(cv2.imread(\"image20.jpg\"), cv2.COLOR_BGR2RGB)\n",
      "image=cv2.imread(\"image21.jpg\")\n",
      "final_block=[]\n",
      "final_block=p.block_detector(image,final_block)\n",
      "bBoxes=final_block\n",
      "# bBoxes = final_block.dot(h.ratio(image, 2000)).astype(np.int64)\n",
      "\n",
      "# crop = page.detection(image)\n",
      "# implt(crop)\n",
      "# bBoxes = words.detection(crop)"
     ],
     "language": "python",
     "metadata": {},
     "outputs": [],
     "prompt_number": 5
    },
    {
     "cell_type": "code",
     "collapsed": false,
     "input": [],
     "language": "python",
     "metadata": {},
     "outputs": [],
     "prompt_number": null
    },
    {
     "cell_type": "heading",
     "level": 1,
     "metadata": {},
     "source": [
      "Simple UI using widgets"
     ]
    },
    {
     "cell_type": "code",
     "collapsed": true,
     "input": [
      "class Cycler:\n",
      "    \"\"\" Cycle through the words and recognise them \"\"\"\n",
      "    height = 60\n",
      "    \n",
      "    def __init__(self, image, boxes):\n",
      "        self.boxes = boxes       # Array of bounding boxes\n",
      "        self.image = image       # Whole image\n",
      "        \n",
      "        \n",
      "    def recognise(self, img):\n",
      "        \"\"\" Recognising word and printing it \"\"\"\n",
      "        # Pre-processing the word\n",
      "        img = imageNorm(\n",
      "            img,\n",
      "            60,\n",
      "            border=False,\n",
      "            tilt=True,\n",
      "            hystNorm=True)\n",
      "            \n",
      "        # Separate letters\n",
      "        img = cv2.copyMakeBorder(\n",
      "            img,\n",
      "            0, 0, 30, 30,\n",
      "            cv2.BORDER_CONSTANT,\n",
      "            value=[0, 0, 0])\n",
      "        gaps = charSeg.segmentation(img, RNN=True, debug=True)\n",
      "        \n",
      "        chars = []\n",
      "        for i in range(len(gaps)-1):\n",
      "            char = img[:, gaps[i]:gaps[i+1]]\n",
      "            # TODO None type error after treshold\n",
      "            char, dim = letterNorm(char, is_thresh=True, dim=True)\n",
      "            # TODO Test different values\n",
      "            if dim[0] > 4 and dim[1] > 4:\n",
      "                chars.append(char.flatten())\n",
      "                \n",
      "        chars = np.array(chars)\n",
      "        word = ''        \n",
      "        if len(chars) != 0:\n",
      "            pred = charClass.run(chars)                \n",
      "            for c in pred:\n",
      "                word += idx2char(c)\n",
      "                \n",
      "        print(\"Word: \" + word)\n",
      "\n",
      "        \n",
      "    def idxImage(self, index):\n",
      "        \"\"\" Getting next image from the array \"\"\"\n",
      "        if index < len(self.boxes):\n",
      "            b = self.boxes[index]\n",
      "#             x1, y1, x2, y2 = b\n",
      "            x1=b[0]; y1=b[1]; x2=b[2]; y2=b[3]\n",
      "            # Cuting out the word image\n",
      "            img = self.image[y1:y2, x1:x2]            \n",
      "            implt(img, t='Index: ' + str(index)) \n",
      "            \n",
      "            self.recognise(img)"
     ],
     "language": "python",
     "metadata": {},
     "outputs": [],
     "prompt_number": 6
    },
    {
     "cell_type": "code",
     "collapsed": false,
     "input": [
      "cycler = Cycler(image, bBoxes)\n",
      "\n",
      "# Interactive slider\n",
      "slider = IntSlider(\n",
      "    value=25,\n",
      "    min=0,\n",
      "    max=len(bBoxes)-1,\n",
      "    step=1,\n",
      "    description='Index',\n",
      "    continuous_update=False)\n",
      "\n",
      "interact(\n",
      "    cycler.idxImage,\n",
      "    index = slider)"
     ],
     "language": "python",
     "metadata": {
      "scrolled": false
     },
     "outputs": [
      {
       "application/vnd.jupyter.widget-view+json": {
        "model_id": "62bbbf32e5bf4725a247c1e106bb1184",
        "version_major": 2,
        "version_minor": 0
       },
       "metadata": {},
       "output_type": "display_data",
       "text": [
        "A Jupyter Widget"
       ]
      },
      {
       "metadata": {},
       "output_type": "pyout",
       "prompt_number": 7,
       "text": [
        "<function ipywidgets.widgets.interaction._InteractFactory.__call__.<locals>.<lambda>>"
       ]
      }
     ],
     "prompt_number": 7
    },
    {
     "cell_type": "code",
     "collapsed": false,
     "input": [
      "for i in final_block:\n",
      "    print(i)\n",
      "print(len(final_block))"
     ],
     "language": "python",
     "metadata": {},
     "outputs": [
      {
       "output_type": "stream",
       "stream": "stdout",
       "text": [
        "(79, 411, 232, 427)\n",
        "(488, 938, 544, 964)\n",
        "(546, 941, 585, 964)\n",
        "(596, 938, 729, 964)\n",
        "(732, 942, 781, 957)\n",
        "(805, 938, 998, 964)\n",
        "(1062, 938, 1122, 964)\n",
        "(543, 1000, 635, 1034)\n",
        "(636, 1017, 693, 1032)\n",
        "(709, 1012, 742, 1025)\n",
        "(752, 995, 841, 1034)\n",
        "(850, 1014, 878, 1018)\n",
        "(904, 995, 1011, 1034)\n",
        "(1020, 995, 1110, 1027)\n",
        "(73, 756, 155, 770)\n",
        "(156, 756, 301, 771)\n",
        "(67, 1025, 151, 1038)\n",
        "(136, 1039, 146, 1040)\n",
        "(150, 1025, 323, 1040)\n",
        "(186, 1025, 194, 1027)\n",
        "(73, 642, 248, 659)\n",
        "(248, 644, 320, 659)\n",
        "(454, 513, 527, 534)\n",
        "(528, 513, 621, 532)\n",
        "(626, 513, 718, 534)\n",
        "(720, 518, 745, 531)\n",
        "(746, 519, 791, 534)\n",
        "(867, 513, 882, 534)\n",
        "(495, 563, 530, 584)\n",
        "(531, 563, 600, 588)\n",
        "(633, 563, 724, 588)\n",
        "(720, 564, 764, 588)\n",
        "(760, 564, 807, 586)\n",
        "(809, 569, 845, 587)\n",
        "(866, 563, 896, 588)\n",
        "(839, 1117, 916, 1159)\n",
        "(904, 1117, 1026, 1155)\n",
        "(1036, 1117, 1046, 1124)\n",
        "(835, 1167, 870, 1180)\n",
        "(875, 1167, 901, 1177)\n",
        "(908, 1171, 952, 1180)\n",
        "(957, 1168, 991, 1180)\n",
        "(996, 1167, 1007, 1180)\n",
        "(1011, 1167, 1020, 1178)\n",
        "(903, 645, 1054, 661)\n",
        "(945, 69, 980, 86)\n",
        "(981, 82, 990, 86)\n",
        "(981, 74, 990, 78)\n",
        "(991, 70, 1045, 87)\n",
        "(1046, 71, 1101, 87)\n",
        "(1140, 84, 1149, 87)\n",
        "(990, 95, 1100, 107)\n",
        "(937, 290, 978, 305)\n",
        "(979, 287, 1096, 306)\n",
        "(866, 706, 957, 722)\n",
        "(75, 564, 212, 580)\n",
        "(213, 573, 222, 576)\n",
        "(224, 566, 282, 580)\n",
        "(68, 946, 222, 962)\n",
        "(76, 333, 190, 347)\n",
        "(77, 348, 87, 350)\n",
        "(88, 349, 97, 351)\n",
        "(100, 348, 188, 351)\n",
        "(496, 764, 530, 800)\n",
        "(546, 765, 580, 800)\n",
        "(596, 764, 616, 775)\n",
        "(625, 764, 671, 791)\n",
        "(680, 769, 720, 800)\n",
        "(736, 765, 806, 800)\n",
        "(790, 785, 829, 789)\n",
        "(839, 775, 892, 798)\n",
        "(900, 771, 928, 798)\n",
        "(928, 766, 953, 800)\n",
        "(606, 819, 638, 825)\n",
        "(627, 824, 673, 848)\n",
        "(674, 830, 727, 846)\n",
        "(743, 830, 774, 843)\n",
        "(777, 819, 852, 848)\n",
        "(865, 842, 896, 846)\n",
        "(905, 823, 1015, 848)\n",
        "(1022, 820, 1104, 846)\n",
        "(639, 873, 679, 893)\n",
        "(681, 871, 715, 895)\n",
        "(736, 872, 760, 895)\n",
        "(776, 872, 817, 895)\n",
        "(836, 876, 882, 895)\n",
        "(902, 876, 960, 893)\n",
        "(960, 871, 984, 894)\n",
        "(989, 876, 1010, 892)\n",
        "(510, 263, 568, 281)\n",
        "(591, 264, 633, 281)\n",
        "(664, 264, 689, 280)\n",
        "(695, 265, 719, 278)\n",
        "(720, 265, 734, 281)\n",
        "(747, 263, 762, 281)\n",
        "(761, 266, 830, 281)\n",
        "(419, 311, 494, 333)\n",
        "(503, 318, 519, 332)\n",
        "(520, 321, 544, 333)\n",
        "(544, 317, 561, 332)\n",
        "(572, 311, 606, 331)\n",
        "(609, 316, 643, 333)\n",
        "(662, 309, 677, 333)\n",
        "(681, 309, 750, 333)\n",
        "(749, 311, 784, 326)\n",
        "(786, 309, 822, 325)\n",
        "(80, 529, 233, 542)\n",
        "(927, 547, 968, 563)\n",
        "(971, 547, 1032, 563)\n",
        "(1048, 547, 1089, 563)\n",
        "(929, 585, 1011, 600)\n",
        "(1021, 585, 1098, 601)\n",
        "(1097, 585, 1128, 601)\n",
        "(70, 792, 110, 807)\n",
        "(111, 793, 140, 807)\n",
        "(141, 793, 203, 808)\n",
        "(78, 373, 209, 386)\n",
        "(67, 985, 156, 1000)\n",
        "(77, 985, 85, 987)\n",
        "(92, 985, 100, 987)\n",
        "(156, 985, 237, 1000)\n",
        "(71, 911, 240, 924)\n",
        "(695, 656, 729, 668)\n",
        "(745, 656, 808, 668)\n",
        "(714, 712, 764, 725)\n",
        "(769, 712, 835, 725)\n",
        "(69, 830, 139, 845)\n",
        "(141, 831, 229, 847)\n",
        "(165, 831, 174, 834)\n",
        "(228, 832, 311, 847)\n",
        "(302, 833, 311, 836)\n",
        "(69, 872, 157, 885)\n",
        "(158, 872, 179, 885)\n",
        "(180, 872, 238, 885)\n",
        "(80, 450, 149, 465)\n",
        "(150, 451, 284, 467)\n",
        "(275, 453, 283, 456)\n",
        "(345, 104, 413, 128)\n",
        "(418, 104, 464, 128)\n",
        "(469, 104, 503, 129)\n",
        "(508, 104, 694, 131)\n",
        "(699, 112, 835, 131)\n",
        "(511, 148, 572, 161)\n",
        "(573, 148, 667, 161)\n",
        "(509, 168, 608, 185)\n",
        "(609, 170, 669, 185)\n",
        "(411, 192, 653, 210)\n",
        "(653, 195, 767, 210)\n",
        "(310, 215, 391, 234)\n",
        "(392, 215, 588, 236)\n",
        "(589, 217, 692, 236)\n",
        "(692, 219, 866, 236)\n",
        "(66, 1063, 134, 1076)\n",
        "(134, 1063, 180, 1076)\n",
        "(184, 1390, 225, 1407)\n",
        "(226, 1390, 779, 1419)\n",
        "(780, 1402, 957, 1421)\n",
        "(74, 603, 179, 619)\n",
        "(180, 604, 230, 619)\n",
        "159\n"
       ]
      }
     ],
     "prompt_number": 8
    },
    {
     "cell_type": "code",
     "collapsed": true,
     "input": [],
     "language": "python",
     "metadata": {},
     "outputs": [],
     "prompt_number": null
    }
   ],
   "metadata": {}
  }
 ]
}